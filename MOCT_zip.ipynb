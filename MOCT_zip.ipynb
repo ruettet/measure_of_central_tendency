{
  "nbformat": 4,
  "nbformat_minor": 0,
  "metadata": {
    "colab": {
      "name": "MOCT_zip",
      "version": "0.3.2",
      "provenance": [],
      "include_colab_link": true
    },
    "kernelspec": {
      "name": "python3",
      "display_name": "Python 3"
    }
  },
  "cells": [
    {
      "cell_type": "markdown",
      "metadata": {
        "id": "view-in-github",
        "colab_type": "text"
      },
      "source": [
        "<a href=\"https://colab.research.google.com/github/ruettet/measure_of_central_tendency/blob/master/MOCT_zip.ipynb\" target=\"_parent\"><img src=\"https://colab.research.google.com/assets/colab-badge.svg\" alt=\"Open In Colab\"/></a>"
      ]
    },
    {
      "metadata": {
        "id": "MPcPfTUplfKL",
        "colab_type": "text"
      },
      "cell_type": "markdown",
      "source": [
        "#Measure of Central Tendency || zip"
      ]
    },
    {
      "metadata": {
        "id": "wcaUSoG8Xdbn",
        "colab_type": "code",
        "colab": {}
      },
      "cell_type": "code",
      "source": [
        "from pandas import read_excel, Series"
      ],
      "execution_count": 0,
      "outputs": []
    },
    {
      "metadata": {
        "id": "mfbhybPjhnaa",
        "colab_type": "text"
      },
      "cell_type": "markdown",
      "source": [
        "##Calculating the average zip code in Belgium\n",
        "\n",
        "We read in the list of communities with their zip codes. Because the data.gov.be is referring to a broken datasource, and since the Belgian post has a corrupt Excel file on its servers, we have to rely on the website of zorg-en-gezondheid.be to provide us with data."
      ]
    },
    {
      "metadata": {
        "id": "JWqi3Uu2bl36",
        "colab_type": "code",
        "colab": {}
      },
      "cell_type": "code",
      "source": [
        "zorggezondheid_zip_url = 'https://www.zorg-en-gezondheid.be/sites/default/files/atoms/files/NIS-codes%20gemeenten.xls'\n",
        "zorggezondheid_zip = read_excel(zorggezondheid_zip_url, skiprows=1, index_col=0)"
      ],
      "execution_count": 0,
      "outputs": []
    },
    {
      "metadata": {
        "id": "LKwiYakOh9Vy",
        "colab_type": "text"
      },
      "cell_type": "markdown",
      "source": [
        "From inspection, we know that this list does not contain the interesting edge cases of zip codes for \"special\" customers, such as Saint Nicolas (0612). These kind of zip codes are included in the data from bpost. Nonetheless, we can use this to calculate an average zip code."
      ]
    },
    {
      "metadata": {
        "id": "ETBxiXINlabz",
        "colab_type": "code",
        "colab": {
          "base_uri": "https://localhost:8080/",
          "height": 34
        },
        "outputId": "e1cc2107-73c5-4aa2-bc1a-2e22372491bf"
      },
      "cell_type": "code",
      "source": [
        "mean_zip_calc = zorggezondheid_zip[\"Postcode\"].mean()\n",
        "mean_zip_calc"
      ],
      "execution_count": 68,
      "outputs": [
        {
          "output_type": "execute_result",
          "data": {
            "text/plain": [
              "5183.764525993884"
            ]
          },
          "metadata": {
            "tags": []
          },
          "execution_count": 68
        }
      ]
    },
    {
      "metadata": {
        "id": "686w_NshmKmL",
        "colab_type": "text"
      },
      "cell_type": "markdown",
      "source": [
        "Obviously, since we are dealing with zip codes, it is impossible to have decimal numbers, so we round to the closest integer."
      ]
    },
    {
      "metadata": {
        "id": "10cmruKamSbR",
        "colab_type": "code",
        "colab": {
          "base_uri": "https://localhost:8080/",
          "height": 34
        },
        "outputId": "9ed95dab-68ac-4075-c2e2-805a15a6686e"
      },
      "cell_type": "code",
      "source": [
        "int(mean_zip_calc.round())"
      ],
      "execution_count": 70,
      "outputs": [
        {
          "output_type": "execute_result",
          "data": {
            "text/plain": [
              "5184"
            ]
          },
          "metadata": {
            "tags": []
          },
          "execution_count": 70
        }
      ]
    },
    {
      "metadata": {
        "id": "CEH0LZBKhbfg",
        "colab_type": "text"
      },
      "cell_type": "markdown",
      "source": [
        "##A mean zip code that is more true\n",
        "\n",
        "Our observations above indicate that this simplistic zip code calculation can not be the most true mean zip code. We have to enrich our calculations with additional contextual information.\n",
        "\n",
        "Therefore, we read in the contextual information about the population in each Belgian municipality."
      ]
    },
    {
      "metadata": {
        "id": "jfg7qVD5YhGh",
        "colab_type": "code",
        "colab": {}
      },
      "cell_type": "code",
      "source": [
        "statbel_bevolking_url = 'https://statbel.fgov.be/sites/default/files/files/opendata/bevolking%20naar%20woonplaats%2C%20nationaliteit%20burgelijke%20staat%20%2C%20leeftijd%20en%20geslacht/TF_SOC_POP_STRUCT_2018.xlsx'\n",
        "datagovbe_bevolking = read_excel(statbel_bevolking_url)"
      ],
      "execution_count": 0,
      "outputs": []
    },
    {
      "metadata": {
        "id": "-sQ6R4znmy-w",
        "colab_type": "text"
      },
      "cell_type": "markdown",
      "source": [
        "We have to perform a complex data joining to enrich the zip code data with the contextual information for each Belgian municipality."
      ]
    },
    {
      "metadata": {
        "id": "GC8dxE8phQ7E",
        "colab_type": "code",
        "colab": {}
      },
      "cell_type": "code",
      "source": [
        "df = datagovbe_bevolking.join(zorggezondheid_zip, on='CD_MUNTY_REFNIS')"
      ],
      "execution_count": 0,
      "outputs": []
    },
    {
      "metadata": {
        "id": "OiNgkuJ7m-z9",
        "colab_type": "text"
      },
      "cell_type": "markdown",
      "source": [
        "A first, obvious attempt at improving the mean zip code is by weighing the municipalities by means of the amount of inhabitants."
      ]
    },
    {
      "metadata": {
        "id": "qIteAuvQiLyP",
        "colab_type": "code",
        "colab": {
          "base_uri": "https://localhost:8080/",
          "height": 338
        },
        "outputId": "1a176d6b-012d-4ccd-bf9e-e2d9558490e0"
      },
      "cell_type": "code",
      "source": [
        "datagovbe_bevolking.head()"
      ],
      "execution_count": 72,
      "outputs": [
        {
          "output_type": "execute_result",
          "data": {
            "text/html": [
              "<div>\n",
              "<style scoped>\n",
              "    .dataframe tbody tr th:only-of-type {\n",
              "        vertical-align: middle;\n",
              "    }\n",
              "\n",
              "    .dataframe tbody tr th {\n",
              "        vertical-align: top;\n",
              "    }\n",
              "\n",
              "    .dataframe thead th {\n",
              "        text-align: right;\n",
              "    }\n",
              "</style>\n",
              "<table border=\"1\" class=\"dataframe\">\n",
              "  <thead>\n",
              "    <tr style=\"text-align: right;\">\n",
              "      <th></th>\n",
              "      <th>CD_MUNTY_REFNIS</th>\n",
              "      <th>TX_MUNTY_DESCR_NL</th>\n",
              "      <th>TX_MUNTY_DESCR_FR</th>\n",
              "      <th>CD_DSTR_REFNIS</th>\n",
              "      <th>TX_ADM_DSTR_DESCR_NL</th>\n",
              "      <th>TX_ADM_DSTR_DESCR_FR</th>\n",
              "      <th>CD_PROV_REFNIS</th>\n",
              "      <th>TX_PROV_DESCR_NL</th>\n",
              "      <th>TX_PROV_DESCR_FR</th>\n",
              "      <th>CD_RGN_REFNIS</th>\n",
              "      <th>...</th>\n",
              "      <th>CD_SEX</th>\n",
              "      <th>CD_NATLTY</th>\n",
              "      <th>TX_NATLTY_FR</th>\n",
              "      <th>TX_NATLTY_NL</th>\n",
              "      <th>CD_CIV_STS</th>\n",
              "      <th>TX_CIV_STS_FR</th>\n",
              "      <th>TX_CIV_STS_NL</th>\n",
              "      <th>CD_AGE</th>\n",
              "      <th>MS_POPULATION</th>\n",
              "      <th>CD_YEAR</th>\n",
              "    </tr>\n",
              "  </thead>\n",
              "  <tbody>\n",
              "    <tr>\n",
              "      <th>0</th>\n",
              "      <td>71024</td>\n",
              "      <td>Herk-de-Stad</td>\n",
              "      <td>Herck-la-Ville</td>\n",
              "      <td>71000</td>\n",
              "      <td>Arrondissement Hasselt</td>\n",
              "      <td>Arrondissement de Hasselt</td>\n",
              "      <td>70000.0</td>\n",
              "      <td>Provincie Limburg</td>\n",
              "      <td>Province de Limbourg</td>\n",
              "      <td>2000</td>\n",
              "      <td>...</td>\n",
              "      <td>F</td>\n",
              "      <td>BEL</td>\n",
              "      <td>Belges</td>\n",
              "      <td>Belgen</td>\n",
              "      <td>20</td>\n",
              "      <td>Marié</td>\n",
              "      <td>Gehuwd</td>\n",
              "      <td>39</td>\n",
              "      <td>42</td>\n",
              "      <td>2018</td>\n",
              "    </tr>\n",
              "    <tr>\n",
              "      <th>1</th>\n",
              "      <td>71037</td>\n",
              "      <td>Lummen</td>\n",
              "      <td>Lummen</td>\n",
              "      <td>71000</td>\n",
              "      <td>Arrondissement Hasselt</td>\n",
              "      <td>Arrondissement de Hasselt</td>\n",
              "      <td>70000.0</td>\n",
              "      <td>Provincie Limburg</td>\n",
              "      <td>Province de Limbourg</td>\n",
              "      <td>2000</td>\n",
              "      <td>...</td>\n",
              "      <td>M</td>\n",
              "      <td>BEL</td>\n",
              "      <td>Belges</td>\n",
              "      <td>Belgen</td>\n",
              "      <td>20</td>\n",
              "      <td>Marié</td>\n",
              "      <td>Gehuwd</td>\n",
              "      <td>82</td>\n",
              "      <td>24</td>\n",
              "      <td>2018</td>\n",
              "    </tr>\n",
              "    <tr>\n",
              "      <th>2</th>\n",
              "      <td>71011</td>\n",
              "      <td>Diepenbeek</td>\n",
              "      <td>Diepenbeek</td>\n",
              "      <td>71000</td>\n",
              "      <td>Arrondissement Hasselt</td>\n",
              "      <td>Arrondissement de Hasselt</td>\n",
              "      <td>70000.0</td>\n",
              "      <td>Provincie Limburg</td>\n",
              "      <td>Province de Limbourg</td>\n",
              "      <td>2000</td>\n",
              "      <td>...</td>\n",
              "      <td>F</td>\n",
              "      <td>BEL</td>\n",
              "      <td>Belges</td>\n",
              "      <td>Belgen</td>\n",
              "      <td>20</td>\n",
              "      <td>Marié</td>\n",
              "      <td>Gehuwd</td>\n",
              "      <td>42</td>\n",
              "      <td>51</td>\n",
              "      <td>2018</td>\n",
              "    </tr>\n",
              "    <tr>\n",
              "      <th>3</th>\n",
              "      <td>71016</td>\n",
              "      <td>Genk</td>\n",
              "      <td>Genk</td>\n",
              "      <td>71000</td>\n",
              "      <td>Arrondissement Hasselt</td>\n",
              "      <td>Arrondissement de Hasselt</td>\n",
              "      <td>70000.0</td>\n",
              "      <td>Provincie Limburg</td>\n",
              "      <td>Province de Limbourg</td>\n",
              "      <td>2000</td>\n",
              "      <td>...</td>\n",
              "      <td>M</td>\n",
              "      <td>BEL</td>\n",
              "      <td>Belges</td>\n",
              "      <td>Belgen</td>\n",
              "      <td>20</td>\n",
              "      <td>Marié</td>\n",
              "      <td>Gehuwd</td>\n",
              "      <td>63</td>\n",
              "      <td>277</td>\n",
              "      <td>2018</td>\n",
              "    </tr>\n",
              "    <tr>\n",
              "      <th>4</th>\n",
              "      <td>71017</td>\n",
              "      <td>Gingelom</td>\n",
              "      <td>Gingelom</td>\n",
              "      <td>71000</td>\n",
              "      <td>Arrondissement Hasselt</td>\n",
              "      <td>Arrondissement de Hasselt</td>\n",
              "      <td>70000.0</td>\n",
              "      <td>Provincie Limburg</td>\n",
              "      <td>Province de Limbourg</td>\n",
              "      <td>2000</td>\n",
              "      <td>...</td>\n",
              "      <td>F</td>\n",
              "      <td>BEL</td>\n",
              "      <td>Belges</td>\n",
              "      <td>Belgen</td>\n",
              "      <td>20</td>\n",
              "      <td>Marié</td>\n",
              "      <td>Gehuwd</td>\n",
              "      <td>30</td>\n",
              "      <td>14</td>\n",
              "      <td>2018</td>\n",
              "    </tr>\n",
              "  </tbody>\n",
              "</table>\n",
              "<p>5 rows × 22 columns</p>\n",
              "</div>"
            ],
            "text/plain": [
              "   CD_MUNTY_REFNIS TX_MUNTY_DESCR_NL TX_MUNTY_DESCR_FR  CD_DSTR_REFNIS  \\\n",
              "0            71024      Herk-de-Stad    Herck-la-Ville           71000   \n",
              "1            71037            Lummen            Lummen           71000   \n",
              "2            71011        Diepenbeek        Diepenbeek           71000   \n",
              "3            71016              Genk              Genk           71000   \n",
              "4            71017          Gingelom          Gingelom           71000   \n",
              "\n",
              "     TX_ADM_DSTR_DESCR_NL       TX_ADM_DSTR_DESCR_FR  CD_PROV_REFNIS  \\\n",
              "0  Arrondissement Hasselt  Arrondissement de Hasselt         70000.0   \n",
              "1  Arrondissement Hasselt  Arrondissement de Hasselt         70000.0   \n",
              "2  Arrondissement Hasselt  Arrondissement de Hasselt         70000.0   \n",
              "3  Arrondissement Hasselt  Arrondissement de Hasselt         70000.0   \n",
              "4  Arrondissement Hasselt  Arrondissement de Hasselt         70000.0   \n",
              "\n",
              "    TX_PROV_DESCR_NL      TX_PROV_DESCR_FR  CD_RGN_REFNIS   ...    CD_SEX  \\\n",
              "0  Provincie Limburg  Province de Limbourg           2000   ...         F   \n",
              "1  Provincie Limburg  Province de Limbourg           2000   ...         M   \n",
              "2  Provincie Limburg  Province de Limbourg           2000   ...         F   \n",
              "3  Provincie Limburg  Province de Limbourg           2000   ...         M   \n",
              "4  Provincie Limburg  Province de Limbourg           2000   ...         F   \n",
              "\n",
              "  CD_NATLTY TX_NATLTY_FR TX_NATLTY_NL CD_CIV_STS TX_CIV_STS_FR  TX_CIV_STS_NL  \\\n",
              "0       BEL       Belges       Belgen         20         Marié         Gehuwd   \n",
              "1       BEL       Belges       Belgen         20         Marié         Gehuwd   \n",
              "2       BEL       Belges       Belgen         20         Marié         Gehuwd   \n",
              "3       BEL       Belges       Belgen         20         Marié         Gehuwd   \n",
              "4       BEL       Belges       Belgen         20         Marié         Gehuwd   \n",
              "\n",
              "  CD_AGE MS_POPULATION  CD_YEAR  \n",
              "0     39            42     2018  \n",
              "1     82            24     2018  \n",
              "2     42            51     2018  \n",
              "3     63           277     2018  \n",
              "4     30            14     2018  \n",
              "\n",
              "[5 rows x 22 columns]"
            ]
          },
          "metadata": {
            "tags": []
          },
          "execution_count": 72
        }
      ]
    }
  ]
}